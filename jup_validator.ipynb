{
 "cells": [
  {
   "cell_type": "code",
   "execution_count": 259,
   "id": "b5a32464-6d6f-4f50-909f-826ba281145c",
   "metadata": {},
   "outputs": [],
   "source": [
    "import pandas as pd\n",
    "import numpy as np"
   ]
  },
  {
   "cell_type": "code",
   "execution_count": 260,
   "id": "6f274f64-23bd-4001-beff-59ce3775e8f3",
   "metadata": {},
   "outputs": [],
   "source": [
    "class Validator:\n",
    "    def __init__(self, method, df):\n",
    "        self.df = df\n",
    "        self.method = method\n",
    "        markers_method_columns = [\n",
    "            ('lat1', float),('lon1', float),\n",
    "            ('popup1',str),('marker_size','int64')\n",
    "        ]\n",
    "        route_method_columns = [\n",
    "            ('lat1',float),('lon1',float),\n",
    "            ('lat2',float),('lon2',float),\n",
    "            ('popup1',str),('popup2',str),\n",
    "            ('line_width','int64'),('line_color',str),\n",
    "        ]\n",
    "        markers_method_df = pd.DataFrame(\n",
    "            {k: pd.Series(dtype=t) for k, t in markers_method_columns}\n",
    "        )\n",
    "        route_method_df = pd.DataFrame(\n",
    "            {k: pd.Series(dtype=t) for k, t in route_method_columns}\n",
    "        )\n",
    "        self.methods_dfs = {\n",
    "            'markers': markers_method_df,\n",
    "            'route': route_method_df\n",
    "        }\n",
    "        if method in ['markers','heatmap']:\n",
    "            self.coordinates_columns_count = 2\n",
    "        elif method in ['route','graph']:\n",
    "            self.coordinates_columns_count = 4\n",
    "        else:\n",
    "            raise TypeError\n",
    "        self.method_columns = self.methods_dfs[method].columns\n",
    "        \n",
    "    def columns_validator(self):\n",
    "        our_df_columns = set(self.df.columns)\n",
    "        method_df_columns = set(self.method_columns)\n",
    "        #issubset не подходит, если в фрейме меньше нужных колонок но остальные подходят\n",
    "        return our_df_columns & method_df_columns == method_df_columns\n",
    "    \n",
    "    def column_type_validator(self):\n",
    "        #our_df-создает словарь имя_колонки:тип_данных для входного фрейма\n",
    "        our_df = dict(self.df[self.method_columns].dtypes)\n",
    "        # method_df-создает словарь имя_колонки:тип_данных для фрейма методов\n",
    "        method_df = dict(self.methods_dfs[self.method].dtypes)\n",
    "        return our_df == method_df\n",
    "    \n",
    "    def column_nan_validator(self):\n",
    "        return  all(self.df.replace('', np.nan).notna().all())\n",
    "    \n",
    "    def coordinates_validator(self):\n",
    "        # ЕЩЕ РАЗ ПРОВЕРИТЬ ИНТЕРВАЛЫ ДЛЯ ДОЛГОТЫ И ШИРОТЫ\n",
    "        def latlng_validator(latlngs, type_coord):\n",
    "            #если значение широта,оно должно быть в интервале [-90,90]\n",
    "            if type_coord == 'lat':\n",
    "                left_limit, right_limit = -90, 90\n",
    "            #если значение долгота,оно должно быть в интервале [-180,180]\n",
    "            elif type_coord =='lon':\n",
    "                left_limit, right_limit = -180, 180\n",
    "            latlng_validation = []\n",
    "            for latlng in latlngs:\n",
    "                # с помощью lambda-выражения проверяем элементы списка на принадлежность заданному интервалу\n",
    "                validation = list(\n",
    "                    map(\n",
    "                        lambda x: True if x >= left_limit and x <= right_limit else False,\n",
    "                        latlng\n",
    "                    )\n",
    "                )\n",
    "                latlng_validation.append(all(validation))\n",
    "            # если все значения внутри списка True, вернет True\n",
    "            return all(latlng_validation)\n",
    "        if self.coordinates_columns_count == 2:\n",
    "            result_validation = [\n",
    "                latlng_validator(\n",
    "                    [self.df['lat1'].tolist()],'lat'\n",
    "                ),\n",
    "                latlng_validator(\n",
    "                    [self.df['lon1'].tolist()], 'lon'\n",
    "                )\n",
    "            ]\n",
    "        else:\n",
    "            result_validation = [\n",
    "                latlng_validator([\n",
    "                    self.df['lat1'].tolist(),\n",
    "                    self.df['lat2'].tolist()\n",
    "                ],'lat'),\n",
    "                latlng_validator([\n",
    "                    self.df['lon1'].tolist(),\n",
    "                    self.df['lon2'].tolist()\n",
    "                ],'lon')\n",
    "            ]\n",
    "        print(result_validation)\n",
    "        return all(result_validation)\n",
    "    "
   ]
  },
  {
   "cell_type": "code",
   "execution_count": 267,
   "id": "30352bd0-f08b-492d-8733-5805b40a2a0d",
   "metadata": {},
   "outputs": [],
   "source": [
    "test1 = pd.DataFrame()\n",
    "test1['lat1'] = [30.4567, 15.36788, 23.98123]\n",
    "test1['lon1'] = [45.1234, 78.2345, 12.45656]\n",
    "test1['lat2'] = [34.78989, 45.67888, 89.24325]\n",
    "test1['lon2'] = [22.7765, 77.32456, 41.364568]\n",
    "test1['popup1'] = ['text11', None, 'text13']\n",
    "test1['popup2'] = ['text21', 'text22', 'text23']\n",
    "test1['line_width'] = [3,5,7]\n",
    "test1['line_color'] = ['red','black','blue']\n",
    "test1['marker_size'] = [3,5,7]"
   ]
  },
  {
   "cell_type": "code",
   "execution_count": 233,
   "id": "5e59f438-1054-4b73-beff-87090c609005",
   "metadata": {},
   "outputs": [],
   "source": [
    "test2 = pd.DataFrame()\n",
    "test2['lat1'] = [30.4567, 50.36788, 23.98123]\n",
    "test2['lon1'] = [45.1234, 78.2345, 12.45656]\n",
    "test2['lat2'] = [34.78989, 45.67888, 89.24325]\n",
    "test2['lon2'] = [22.7765, 77.32456, 41.364568]\n",
    "test2['popup1'] = ['text11', 'text12', 'text13']\n",
    "test2['popup2'] = ['text21', 'text22', 'text23']\n",
    "test2['line_width'] = [3,5,7]\n",
    "test2['line_color'] = ['red','black','blue']\n",
    "test2['marker_size'] = [3,5,6]"
   ]
  },
  {
   "cell_type": "code",
   "execution_count": 268,
   "id": "84bcd98a-b05d-4259-b833-69dd3b9172bb",
   "metadata": {},
   "outputs": [],
   "source": [
    "v1 = Validator('route', test1)"
   ]
  },
  {
   "cell_type": "code",
   "execution_count": 269,
   "id": "dc7b741d-28fb-4d4c-96a5-04e806b8c28f",
   "metadata": {},
   "outputs": [
    {
     "data": {
      "text/plain": [
       "True"
      ]
     },
     "execution_count": 269,
     "metadata": {},
     "output_type": "execute_result"
    }
   ],
   "source": [
    "v1.columns_validator()"
   ]
  },
  {
   "cell_type": "code",
   "execution_count": 270,
   "id": "75e09192-3e64-41ff-ba46-f3794c7cf001",
   "metadata": {},
   "outputs": [
    {
     "data": {
      "text/plain": [
       "True"
      ]
     },
     "execution_count": 270,
     "metadata": {},
     "output_type": "execute_result"
    }
   ],
   "source": [
    "v1.column_type_validator()"
   ]
  },
  {
   "cell_type": "code",
   "execution_count": 271,
   "id": "69687c44-3ca3-48b9-9b9b-208fea5674a5",
   "metadata": {},
   "outputs": [
    {
     "data": {
      "text/plain": [
       "False"
      ]
     },
     "execution_count": 271,
     "metadata": {},
     "output_type": "execute_result"
    }
   ],
   "source": [
    "v1.column_nan_validator()"
   ]
  },
  {
   "cell_type": "code",
   "execution_count": 272,
   "id": "e51335a6-476b-4e66-acc4-db20f8faf569",
   "metadata": {},
   "outputs": [
    {
     "name": "stdout",
     "output_type": "stream",
     "text": [
      "[True, True]\n"
     ]
    },
    {
     "data": {
      "text/plain": [
       "True"
      ]
     },
     "execution_count": 272,
     "metadata": {},
     "output_type": "execute_result"
    }
   ],
   "source": [
    "v1.coordinates_validator()"
   ]
  }
 ],
 "metadata": {
  "kernelspec": {
   "display_name": "Python 3 (ipykernel)",
   "language": "python",
   "name": "python3"
  },
  "language_info": {
   "codemirror_mode": {
    "name": "ipython",
    "version": 3
   },
   "file_extension": ".py",
   "mimetype": "text/x-python",
   "name": "python",
   "nbconvert_exporter": "python",
   "pygments_lexer": "ipython3",
   "version": "3.9.13"
  }
 },
 "nbformat": 4,
 "nbformat_minor": 5
}
